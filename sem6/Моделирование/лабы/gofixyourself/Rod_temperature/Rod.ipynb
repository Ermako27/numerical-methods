{
 "cells": [
  {
   "cell_type": "code",
   "execution_count": 1,
   "metadata": {},
   "outputs": [],
   "source": [
    "from prettytable import PrettyTable\n",
    "from matplotlib import pyplot as plot\n",
    "from math import fabs"
   ]
  },
  {
   "cell_type": "code",
   "execution_count": 2,
   "metadata": {},
   "outputs": [],
   "source": [
    "# -- Source data --\n",
    "rod_radius = 0.5            # Radius of the rod\n",
    "first_cond_coeff = 0.2      # Parameter for conductivity coefficient\n",
    "second_cond_coeff = 0.5     # Ditto\n",
    "begin_transf_coeff = 1e-2   # Heat transfer coefficient (start point)\n",
    "end_transf_coeff = 9e-3     # Ditto (end point)\n",
    "rod_length = 10             # Rod length\n",
    "env_temperature = 300       # Environment temperature\n",
    "heat_stream_density = 100   # Heat stream density\n",
    "\n",
    "N = 25"
   ]
  },
  {
   "cell_type": "code",
   "execution_count": 3,
   "metadata": {},
   "outputs": [],
   "source": [
    "def get_alpha(x, a, b):\n",
    "    return a / (x - b)"
   ]
  },
  {
   "cell_type": "code",
   "execution_count": 4,
   "metadata": {},
   "outputs": [],
   "source": [
    "# To calculate the coefficients A and C of the Thomas Algorithm:\n",
    "def get_A_or_C(first_k, second_k):\n",
    "    return 2 * first_k * second_k / (first_k + second_k)"
   ]
  },
  {
   "cell_type": "code",
   "execution_count": 5,
   "metadata": {},
   "outputs": [],
   "source": [
    "class ThomasAlgorithmCoefficients:\n",
    "    def __init__(self):\n",
    "        self.A = []\n",
    "        self.B = []\n",
    "        self.C = []\n",
    "        self.F = []\n",
    "\n",
    "        \n",
    "class BoundaryConditionParameters:\n",
    "    def __init__(self):\n",
    "        self.coefficients = ThomasAlgorithmCoefficients()\n",
    "        \n",
    "        self.K0 = 0   # For the boundary condition on the left\n",
    "        self.M0 = 0   # For the boundary condition on the left\n",
    "        self.P0 = 0   # For the boundary condition on the left\n",
    "        \n",
    "        self.KN = 0   # For the boundary condition on the right\n",
    "        self.MN = 0   # For the boundary condition on the right\n",
    "        self.PN = 0   # For the boundary condition on the right\n",
    "        \n",
    "        self.n = 0    # The number of equations"
   ]
  },
  {
   "cell_type": "code",
   "execution_count": 6,
   "metadata": {},
   "outputs": [],
   "source": [
    "def runthru_coefficients(data, n, t):\n",
    "    # Runthru coefficients:\n",
    "    xi = [0] * (n + 1)\n",
    "    et = [0] * (n + 1)\n",
    "    xi[1] = -data.M0 / data.K0\n",
    "    et[1] = data.P0 / data.K0\n",
    "    # Forward run:\n",
    "    for i in range(2, n + 1):\n",
    "        xi[i] = data.coefficients.C[i - 1] / (data.coefficients.B[i - 1] - data.coefficients.A[i - 1] * xi[i - 1])\n",
    "        et[i] = (data.coefficients.F[i - 1] + data.coefficients.A[i - 1] * et[i - 1]) / (data.coefficients.B[i - 1] - data.coefficients.A[i - 1] * xi[i - 1])\n",
    "    t[n] = (data.PN - data.MN * et[n]) / (data.KN + data.MN * xi[n])\n",
    "    # Reverse run:\n",
    "    for i in range(n - 1, -1, -1):\n",
    "        t[i] = xi[i + 1] * t[i + 1] + et[i + 1]\n",
    "    pass"
   ]
  },
  {
   "cell_type": "code",
   "execution_count": 7,
   "metadata": {},
   "outputs": [],
   "source": [
    "def calculate():\n",
    "    b_coeff = end_transf_coeff * rod_length / (end_transf_coeff - begin_transf_coeff)\n",
    "    a_coeff = -1 * begin_transf_coeff * b_coeff\n",
    "    T = [500] * (N + 1)\n",
    "    x = []\n",
    "    T_old = 500\n",
    "    h = rod_length / (N - 1)\n",
    "    run_data = BoundaryConditionParameters()\n",
    "    \n",
    "    while True:\n",
    "        T_old = T[0]\n",
    "\n",
    "        # Left boundary conditions:\n",
    "        k_first = first_cond_coeff * (T[0] / 300) ** second_cond_coeff\n",
    "        k_second = first_cond_coeff * (T[1] / 300) ** second_cond_coeff\n",
    "        half_h = get_A_or_C(k_first, k_second)\n",
    "\n",
    "        p_zero = 2 * get_alpha(0, a_coeff, b_coeff) / rod_radius\n",
    "        p_first = 2 * get_alpha(h, a_coeff, b_coeff) / rod_radius\n",
    "        half_p = (p_zero + p_first) / 2\n",
    "\n",
    "        f_zero = 2 * get_alpha(0, a_coeff, b_coeff) * env_temperature / rod_radius\n",
    "        f_first = 2 * get_alpha(h, a_coeff, b_coeff) * env_temperature / rod_radius\n",
    "\n",
    "        run_data.K0 = half_h + h * h * half_p / 8 + h * h * p_zero / 4\n",
    "        run_data.M0 = h * h * half_p / 8 - half_h\n",
    "        run_data.P0 = h * heat_stream_density + h * h * (3 * f_zero + f_first) / 8\n",
    "\n",
    "        # Right boundary conditions:\n",
    "        k_first = first_cond_coeff * (T[N - 2] / 300) ** second_cond_coeff\n",
    "        k_second = first_cond_coeff * (T[N - 1] / 300) ** second_cond_coeff\n",
    "        half_h = get_A_or_C(k_first, k_second)\n",
    "\n",
    "        f_zero = 2 * get_alpha(rod_length, a_coeff, b_coeff) * env_temperature / rod_radius\n",
    "        f_first = 2 * get_alpha(rod_length - h, a_coeff, b_coeff) * env_temperature / rod_radius\n",
    "        p_zero = 2 * get_alpha(rod_length, a_coeff, b_coeff) / rod_radius\n",
    "        p_first = 2 * get_alpha(rod_length - h, a_coeff, b_coeff) / rod_radius\n",
    "\n",
    "        run_data.KN = -(half_h + get_alpha(rod_length, a_coeff, b_coeff) * h) / h - h * (5 * p_zero + p_first) / 16\n",
    "        run_data.MN = half_h / h - h * (p_zero + p_first) / 16\n",
    "        run_data.PN = -(get_alpha(rod_length, a_coeff, b_coeff) * env_temperature) - h * (3 * f_zero + f_first) / 8\n",
    "\n",
    "        # Forming three-diagonal matrix method coefficients:\n",
    "        x = []\n",
    "        run_data.coefficients.A = []\n",
    "        run_data.coefficients.B = []\n",
    "        run_data.coefficients.C = []\n",
    "        run_data.coefficients.F = []\n",
    "        run_data.coefficients.A.append(0)\n",
    "        run_data.coefficients.B.append(0)\n",
    "        run_data.coefficients.C.append(0)\n",
    "        run_data.coefficients.F.append(0)\n",
    "        x_val = 0\n",
    "        x_val += h\n",
    "        for i in range(1, N):\n",
    "            x.append(x_val)\n",
    "            \n",
    "            kt1 = first_cond_coeff * (T[i - 1] / 300) ** second_cond_coeff\n",
    "            kt2 = first_cond_coeff * (T[i] / 300) ** second_cond_coeff\n",
    "            \n",
    "            run_data.coefficients.A.append(get_A_or_C(kt1, kt2) / h)\n",
    "            \n",
    "            kt1 = first_cond_coeff * (T[i] / 300) ** second_cond_coeff\n",
    "            kt2 = first_cond_coeff * (T[i + 1] / 300) ** second_cond_coeff\n",
    "            run_data.coefficients.C.append(get_A_or_C(kt1, kt2) / h)\n",
    "            \n",
    "            prev_f_x = 2 * get_alpha(x_val, a_coeff, b_coeff) / rod_radius\n",
    "            run_data.coefficients.B.append(run_data.coefficients.A[-1] + run_data.coefficients.C[-1] + prev_f_x * h)\n",
    "            \n",
    "            f_x = 2 * get_alpha(x_val, a_coeff, b_coeff) * env_temperature / rod_radius\n",
    "            run_data.coefficients.F.append(f_x * h)\n",
    "            \n",
    "            x_val += h\n",
    "        x.append(x_val)\n",
    "        runthru_coefficients(run_data, N, T)\n",
    "        if fabs(T[0] - T_old) / T[0] < 1e-5:\n",
    "            break\n",
    "    return [T, x]"
   ]
  },
  {
   "cell_type": "code",
   "execution_count": 8,
   "metadata": {},
   "outputs": [
    {
     "name": "stdout",
     "output_type": "stream",
     "text": [
      "Temperature per distance:\n",
      " +--------------------+--------------------+\n",
      "|         T          |         x          |\n",
      "+--------------------+--------------------+\n",
      "| 1165.3090150456985 | 0.4166666666666667 |\n",
      "| 1064.7263439272613 | 0.8333333333333334 |\n",
      "|  973.878685789043  |        1.25        |\n",
      "| 892.0794798991392  | 1.6666666666666667 |\n",
      "| 818.6692797567939  | 2.0833333333333335 |\n",
      "| 753.0151226699975  |        2.5         |\n",
      "| 694.5100314448359  | 2.9166666666666665 |\n",
      "| 642.5726978561681  | 3.333333333333333  |\n",
      "| 596.6473951682194  | 3.7499999999999996 |\n",
      "| 556.2041560896985  | 4.166666666666666  |\n",
      "| 520.7392318325456  | 4.583333333333333  |\n",
      "| 489.77581811232017 |        5.0         |\n",
      "| 462.8649984388737  | 5.416666666666667  |\n",
      "| 439.58681998199984 | 5.833333333333334  |\n",
      "| 419.5513901849317  | 6.250000000000001  |\n",
      "| 402.39987004320506 | 6.666666666666668  |\n",
      "| 387.80524660431377 | 7.083333333333335  |\n",
      "| 375.4727924607178  | 7.500000000000002  |\n",
      "| 365.14015910477843 | 7.916666666666669  |\n",
      "| 356.5770963471812  | 8.333333333333336  |\n",
      "| 349.5848332707753  | 8.750000000000002  |\n",
      "| 343.99519062144924 | 9.166666666666668  |\n",
      "| 339.6695161939825  | 9.583333333333334  |\n",
      "| 336.49754278250117 |        10.0        |\n",
      "| 334.39626416097263 | 10.416666666666666 |\n",
      "+--------------------+--------------------+\n"
     ]
    },
    {
     "data": {
      "image/png": "[encoded data removed]",
      "text/plain": [
       "<matplotlib.figure.Figure at 0x10f8b7128>"
      ]
     },
     "metadata": {},
     "output_type": "display_data"
    }
   ],
   "source": [
    "table_data = PrettyTable()\n",
    "result = calculate()\n",
    "result[0].pop()\n",
    "table_data.add_column('T', result[0])\n",
    "table_data.add_column('x', result[1])\n",
    "print('Temperature per distance:\\n', table_data)\n",
    "\n",
    "plot.plot(result[1], result[0], label='T')\n",
    "plot.legend()\n",
    "plot.savefig('T.png', format='png')\n",
    "plot.show()"
   ]
  }
 ],
 "metadata": {
  "kernelspec": {
   "display_name": "Python [default]",
   "language": "python",
   "name": "python3"
  },
  "language_info": {
   "codemirror_mode": {
    "name": "ipython",
    "version": 3
   },
   "file_extension": ".py",
   "mimetype": "text/x-python",
   "name": "python",
   "nbconvert_exporter": "python",
   "pygments_lexer": "ipython3",
   "version": "3.5.4"
  }
 },
 "nbformat": 4,
 "nbformat_minor": 2
}
