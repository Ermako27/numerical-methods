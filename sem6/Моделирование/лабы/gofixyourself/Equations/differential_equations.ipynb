{
 "cells": [
  {
   "cell_type": "code",
   "execution_count": null,
   "metadata": {},
   "outputs": [],
   "source": [
    "from prettytable import PrettyTable\n",
    "from numpy import arange\n",
    "from math import sqrt"
   ]
  },
  {
   "cell_type": "code",
   "execution_count": null,
   "metadata": {},
   "outputs": [],
   "source": [
    "#     u'(x) = x^2 + u^2\n",
    "# ---- Input data ----\n",
    "step = 0.01             # Difference between X_i and X_i + 1\n",
    "end_value_x = 3         # Ending value of X.\n",
    "# -------------------"
   ]
  },
  {
   "cell_type": "code",
   "execution_count": null,
   "metadata": {},
   "outputs": [],
   "source": [
    "def explicit_scheme(y_0, x, h):\n",
    "    return y_0 + h * (x ** 2 + y_0 **2)"
   ]
  },
  {
   "cell_type": "code",
   "execution_count": null,
   "metadata": {},
   "outputs": [],
   "source": [
    "def implicit_scheme(y_0, x, h):\n",
    "    D = 1 - 4 * h * (y_0 + h * (x + h) ** 2)\n",
    "    if D < 0:\n",
    "        return float(\"NaN\")\n",
    "    else:\n",
    "        return (1 - sqrt(D)) / (2 * h)"
   ]
  },
  {
   "cell_type": "code",
   "execution_count": null,
   "metadata": {},
   "outputs": [],
   "source": [
    "def Picard_1st(x):\n",
    "    return x ** 3 / 3\n",
    "\n",
    "\n",
    "def Picard_2nd(x):\n",
    "    return x ** 3 / 3 * (1 + x ** 4 / 21)\n",
    "\n",
    "\n",
    "def Picard_3rd(x):\n",
    "    return x ** 3 / 3 * (1 + x ** 4 / 21 + 2 / 693 * x ** 8 + 1 / 19845 * x ** 12)\n",
    "\n",
    "\n",
    "def Picard_4th(x):\n",
    "    return x ** 3 / 3 + x ** 7 / 63 + 2 / 2079 * x ** 11 + 13 / 218295 * x ** 15 + 82 / 37328445 * x ** 19"
   ]
  },
  {
   "cell_type": "code",
   "execution_count": null,
   "metadata": {},
   "outputs": [],
   "source": [
    "def Runge_Kutta(y_0, x, h):\n",
    "    return y_0 + h * ((x + h / 2) ** 2 + (y_0 + h / 2 * (x ** 2 + y_0 ** 2)) ** 2)"
   ]
  },
  {
   "cell_type": "code",
   "execution_count": null,
   "metadata": {},
   "outputs": [],
   "source": [
    "def calculate_Picard(x_start, step, x_end, func):\n",
    "    x_values, y_values = [], []\n",
    "    x_values.append(0), y_values.append(0)\n",
    "    for x_current in arange(x_start + step, x_end + step, step):  # an array of x values\n",
    "        result = func(x_current)\n",
    "        if result <= 10e+300:\n",
    "            x_values.append(round(x_current, 5)), y_values.append(round(result, 8))\n",
    "        else:\n",
    "            x_values.append(round(x_current, 5)), y_values.append(float('inf'))\n",
    "        x_current += step\n",
    "\n",
    "    return [x_values, y_values]\n",
    "\n",
    "x, first_result = calculate_Picard(0, step, end_value_x, Picard_1st)\n",
    "x, second_result = calculate_Picard(0, step, end_value_x, Picard_2nd)\n",
    "x, third_result = calculate_Picard(0, step, end_value_x, Picard_3rd)\n",
    "x, fourth_result = calculate_Picard(0, step, end_value_x, Picard_4th)"
   ]
  },
  {
   "cell_type": "code",
   "execution_count": null,
   "metadata": {},
   "outputs": [],
   "source": [
    "def calculate_scheme(x_start, step, x_end, func):\n",
    "    x_values, y_values = [], []\n",
    "    x_values.append(0), y_values.append(0)\n",
    "    for x_current in arange(x_start + step, x_end + step, step):\n",
    "        result = func(y_values[-1], x_current - step, step)  #handing over y_i, x_i, step\n",
    "        if result <= 10e+300:\n",
    "            x_values.append(round(x_current, 5)), y_values.append(round(result, 8))\n",
    "        else:\n",
    "            x_values.append(round(x_current, 5)), y_values.append(float('inf'))\n",
    "            \n",
    "    return [x_values, y_values]\n",
    "\n",
    "x, fiveth_result = calculate_scheme(0, step, end_value_x, Runge_Kutta)\n",
    "x, sixth_result = calculate_scheme(0, step, end_value_x, explicit_scheme)"
   ]
  },
  {
   "cell_type": "code",
   "execution_count": null,
   "metadata": {
    "scrolled": false
   },
   "outputs": [],
   "source": [
    "table = PrettyTable()\n",
    "table.add_column('X', x)\n",
    "table.add_column('Picard 1st', first_result)\n",
    "table.add_column('Picard 2nd', second_result)\n",
    "table.add_column('Picard 3rd', third_result)\n",
    "table.add_column('Picard 4th', fourth_result)\n",
    "table.add_column('Explicit Scheme', sixth_result)\n",
    "table.add_column('Runge-Kutta', five_result)\n",
    "\n",
    "print(table)"
   ]
  },
  {
   "cell_type": "code",
   "execution_count": null,
   "metadata": {},
   "outputs": [],
   "source": []
  }
 ],
 "metadata": {
  "kernelspec": {
   "display_name": "Python [default]",
   "language": "python",
   "name": "python3"
  },
  "language_info": {
   "codemirror_mode": {
    "name": "ipython",
    "version": 3
   },
   "file_extension": ".py",
   "mimetype": "text/x-python",
   "name": "python",
   "nbconvert_exporter": "python",
   "pygments_lexer": "ipython3",
   "version": "3.5.4"
  }
 },
 "nbformat": 4,
 "nbformat_minor": 2
}
